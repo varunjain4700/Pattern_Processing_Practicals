{
 "cells": [
  {
   "cell_type": "code",
   "execution_count": 1,
   "metadata": {},
   "outputs": [],
   "source": [
    "import numpy as np\n",
    "import matplotlib.pyplot as plt"
   ]
  },
  {
   "cell_type": "code",
   "execution_count": 2,
   "metadata": {},
   "outputs": [],
   "source": [
    "X = np.array([[13,18],\n",
    "              [4,15],\n",
    "              [12,17],\n",
    "              [2,15],\n",
    "              [3,20]\n",
    "])"
   ]
  },
  {
   "cell_type": "code",
   "execution_count": 3,
   "metadata": {},
   "outputs": [],
   "source": [
    "class Distance_computation_grid(object):\n",
    "        # class to enable the Computation of distance matrix \n",
    "\n",
    "    def __init__(self):\n",
    "        pass\n",
    "    \n",
    "    def compute_distance(self,samples):\n",
    "            # Creates a matrix of distances between individual samples and clusters attained at a particular step\n",
    "        Distance_mat = np.zeros((len(samples),len(samples)))\n",
    "        for i in range(Distance_mat.shape[0]):\n",
    "            for j in range(Distance_mat.shape[0]):\n",
    "                if i!=j:\n",
    "                    Distance_mat[i,j] = float(self.distance_calculate(samples[i],samples[j]))\n",
    "                else:\n",
    "                    Distance_mat[i,j] = 10**4\n",
    "        return Distance_mat\n",
    "    \n",
    "    \n",
    "    def distance_calculate(self,sample1,sample2):\n",
    "        '''\n",
    "            Distance calulated between two samples. The two samples can be both samples, both clusters or\n",
    "            one cluster and one sample. If both of them are samples/clusters, then simple norm is used. In other \n",
    "            cases, we refer it as an exception case and pass the samples as parameter to some function that \n",
    "            calculates the necessary distance between cluster and a sample\n",
    "        '''\n",
    "        dist = []\n",
    "        for i in range(len(sample1)):\n",
    "            for j in range(len(sample2)):\n",
    "                try:\n",
    "                    dist.append(np.linalg.norm(np.array(sample1[i])-np.array(sample2[j])))\n",
    "                except:\n",
    "                    dist.append(self.intersampledist(sample1[i],sample2[j]))\n",
    "        return min(dist)\n",
    "    \n",
    "    \n",
    "    def intersampledist(self,s1,s2):\n",
    "        '''\n",
    "            To be used in case we have one sample and one cluster . It takes the help of one \n",
    "            method 'interclusterdist' to compute the distances between elements of a cluster(which are\n",
    "            samples) and the actual sample given.\n",
    "        '''\n",
    "        if str(type(s2[0]))!='<class \\'list\\'>':\n",
    "            s2=[s2]\n",
    "        if str(type(s1[0]))!='<class \\'list\\'>':\n",
    "            s1=[s1]\n",
    "        m = len(s1)\n",
    "        n = len(s2)\n",
    "        dist = []\n",
    "        if n>=m:\n",
    "            for i in range(n):\n",
    "                for j in range(m):\n",
    "                    if (len(s2[i])>=len(s1[j])) and str(type(s2[i][0])!='<class \\'list\\'>'):\n",
    "                        dist.append(self.interclusterdist(s2[i],s1[j]))\n",
    "                    else:\n",
    "                        dist.append(np.linalg.norm(np.array(s2[i])-np.array(s1[j])))\n",
    "        else:\n",
    "            for i in range(m):\n",
    "                for j in range(n):\n",
    "                    if (len(s1[i])>=len(s2[j])) and str(type(s1[i][0])!='<class \\'list\\'>'):\n",
    "                        dist.append(self.interclusterdist(s1[i],s2[j]))\n",
    "                    else:\n",
    "                        dist.append(np.linalg.norm(np.array(s1[i])-np.array(s2[j])))\n",
    "        return min(dist)\n",
    "\n",
    "    \n",
    "    def interclusterdist(self,cl,sample):\n",
    "        if sample[0]!='<class \\'list\\'>':\n",
    "            sample = [sample]\n",
    "        dist   = []\n",
    "        for i in range(len(cl)):\n",
    "            for j in range(len(sample)):\n",
    "                dist.append(np.linalg.norm(np.array(cl[i])-np.array(sample[j])))\n",
    "        return min(dist)\n",
    "    "
   ]
  },
  {
   "cell_type": "code",
   "execution_count": 4,
   "metadata": {},
   "outputs": [
    {
     "name": "stdout",
     "output_type": "stream",
     "text": [
      "Cluster Node 1                   :- [0]\n",
      "Cluster Node 2                   :- [2]\n",
      "Progression(Current Sample)      :- [[[0, [2]]], [1], [3], [4]]\n",
      "Cluster attained                 :- [[0, [2]]]\n",
      "\n",
      "\n",
      "Cluster Node 1                   :- [1]\n",
      "Cluster Node 2                   :- [3]\n",
      "Progression(Current Sample)      :- [[[0, [2]]], [[1, [3]]], [4]]\n",
      "Cluster attained                 :- [[1, [3]]]\n",
      "\n",
      "\n",
      "Cluster Node 1                   :- [[1, [3]]]\n",
      "Cluster Node 2                   :- [4]\n",
      "Progression(Current Sample)      :- [[[0, [2]]], [[[1, [3]], [4]]]]\n",
      "Cluster attained                 :- [[[1, [3]], [4]]]\n",
      "\n",
      "\n",
      "Cluster Node 1                   :- [[0, [2]]]\n",
      "Cluster Node 2                   :- [[[1, [3]], [4]]]\n",
      "Progression(Current Sample)      :- [[[[0, [2]], [[[1, [3]], [4]]]]]]\n",
      "Cluster attained                 :- [[[0, [2]], [[[1, [3]], [4]]]]]\n",
      "\n",
      "\n"
     ]
    }
   ],
   "source": [
    "progression = [[i] for i in range(X.shape[0])]\n",
    "samples     = [[list(X[i])] for i in range(X.shape[0])]\n",
    "m = len(samples)\n",
    "distcal  = Distance_computation_grid()\n",
    "\n",
    "while m>1:\n",
    "    Distance_mat      = distcal.compute_distance(samples)\n",
    "    sample_ind_needed = np.where(Distance_mat==Distance_mat.min())[0]\n",
    "    value_to_add      = samples.pop(sample_ind_needed[1])\n",
    "    samples[sample_ind_needed[0]].append(value_to_add)\n",
    "    \n",
    "    print('Cluster Node 1                   :-',progression[sample_ind_needed[0]])\n",
    "    print('Cluster Node 2                   :-',progression[sample_ind_needed[1]])\n",
    "    \n",
    "    progression[sample_ind_needed[0]].append(progression[sample_ind_needed[1]])\n",
    "    progression[sample_ind_needed[0]] = [progression[sample_ind_needed[0]]]\n",
    "    v = progression.pop(sample_ind_needed[1])\n",
    "    m = len(samples)\n",
    "    \n",
    "    print('Progression(Current Sample)      :-',progression)\n",
    "    print('Cluster attained                 :-',progression[sample_ind_needed[0]])\n",
    "    print('\\n')"
   ]
  },
  {
   "cell_type": "code",
   "execution_count": 5,
   "metadata": {},
   "outputs": [
    {
     "data": {
      "image/png": "[encoded data removed]",
      "text/plain": [
       "<Figure size 1080x720 with 1 Axes>"
      ]
     },
     "metadata": {
      "needs_background": "light"
     },
     "output_type": "display_data"
    }
   ],
   "source": [
    "from scipy.cluster.hierarchy import dendrogram, linkage\n",
    "from matplotlib import pyplot as plt\n",
    "Z = linkage(X, 'single')\n",
    "fig = plt.figure(figsize=(15, 10))\n",
    "dn = dendrogram(Z)"
   ]
  }
 ],
 "metadata": {
  "kernelspec": {
   "display_name": "Python 3",
   "language": "python",
   "name": "python3"
  },
  "language_info": {
   "codemirror_mode": {
    "name": "ipython",
    "version": 3
   },
   "file_extension": ".py",
   "mimetype": "text/x-python",
   "name": "python",
   "nbconvert_exporter": "python",
   "pygments_lexer": "ipython3",
   "version": "3.8.8"
  }
 },
 "nbformat": 4,
 "nbformat_minor": 2
}
