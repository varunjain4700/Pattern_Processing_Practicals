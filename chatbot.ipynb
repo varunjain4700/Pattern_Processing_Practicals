{
 "cells": [
  {
   "cell_type": "code",
   "execution_count": 1,
   "metadata": {},
   "outputs": [],
   "source": [
    "from chatterbot import ChatBot\n",
    "from chatterbot.trainers import ChatterBotCorpusTrainer\n",
    "from chatterbot.trainers import ListTrainer\n"
   ]
  },
  {
   "cell_type": "code",
   "execution_count": 2,
   "metadata": {},
   "outputs": [
    {
     "name": "stdout",
     "output_type": "stream",
     "text": [
      "\r",
      "List Trainer: [##                  ] 10%"
     ]
    },
    {
     "name": "stderr",
     "output_type": "stream",
     "text": [
      "[nltk_data] Downloading package averaged_perceptron_tagger to\n",
      "[nltk_data]     /Users/varunjain/nltk_data...\n",
      "[nltk_data]   Package averaged_perceptron_tagger is already up-to-\n",
      "[nltk_data]       date!\n",
      "[nltk_data] Downloading package punkt to /Users/varunjain/nltk_data...\n",
      "[nltk_data]   Package punkt is already up-to-date!\n",
      "[nltk_data] Downloading package stopwords to\n",
      "[nltk_data]     /Users/varunjain/nltk_data...\n",
      "[nltk_data]   Package stopwords is already up-to-date!\n"
     ]
    },
    {
     "name": "stdout",
     "output_type": "stream",
     "text": [
      "List Trainer: [####################] 100%\n"
     ]
    }
   ],
   "source": [
    "chatbot = ChatBot(\"My Bot\")\n",
    "conversation = [\n",
    "    \"Hello\",\n",
    "    \"Hi, there!\",\n",
    "    \"How are you doing?\",\n",
    "    \"I'm doing great.\",\n",
    "    \"That is good to hear\",\n",
    "    \"how can i help you?\",\n",
    "    \"Do you know what is the capital of India?\",\n",
    "    \"Yes, It is New Delhi\",\n",
    "    \"Thank you.\",\n",
    "    \"You're welcome.\"\n",
    "]\n",
    "\n",
    "trainer = ListTrainer(chatbot)\n",
    "\n",
    "trainer.train(conversation)"
   ]
  },
  {
   "cell_type": "code",
   "execution_count": 3,
   "metadata": {},
   "outputs": [
    {
     "name": "stdout",
     "output_type": "stream",
     "text": [
      "> Hello\n",
      " Hi\n",
      "> How are you doing?\n",
      " Good.\n",
      "> That is good to hear\n",
      " Yes it is.\n",
      "> Do you know what is the capital of India?\n",
      " Yes, It is New Delhi\n",
      "> What are your hobbies?\n",
      " Playing Soccer, Painting, Writing are my hobbies. How about you?\n",
      "> I like travelling and watching movies.\n",
      " What kind of movies do you like?\n",
      "> Mystery and Thriller\n",
      " Not particularly.\n",
      "> quit\n"
     ]
    }
   ],
   "source": [
    "exit_conditions = (\":q\", \"quit\", \"exit\")\n",
    "while True:\n",
    "    query = input(\"> \")\n",
    "    if query in exit_conditions:\n",
    "        break\n",
    "    else:\n",
    "        print(f\" {chatbot.get_response(query)}\")"
   ]
  },
  {
   "cell_type": "code",
   "execution_count": null,
   "metadata": {},
   "outputs": [],
   "source": []
  }
 ],
 "metadata": {
  "kernelspec": {
   "display_name": "Python 3",
   "language": "python",
   "name": "python3"
  },
  "language_info": {
   "codemirror_mode": {
    "name": "ipython",
    "version": 3
   },
   "file_extension": ".py",
   "mimetype": "text/x-python",
   "name": "python",
   "nbconvert_exporter": "python",
   "pygments_lexer": "ipython3",
   "version": "3.8.8"
  }
 },
 "nbformat": 4,
 "nbformat_minor": 2
}
